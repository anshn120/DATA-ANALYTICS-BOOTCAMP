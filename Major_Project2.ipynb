{
 "cells": [
  {
   "cell_type": "code",
   "execution_count": 6,
   "id": "730574fa-2704-4ada-8a33-65c3b5cf4650",
   "metadata": {},
   "outputs": [
    {
     "name": "stdout",
     "output_type": "stream",
     "text": [
      " ~Bill Management System~\n",
      "1. Add Product\n",
      "2. Show Products\n",
      "3. Buy Product\n",
      "4. Exit\n",
      "\n"
     ]
    },
    {
     "name": "stdin",
     "output_type": "stream",
     "text": [
      "Enter your choice (1–4):  4\n"
     ]
    },
    {
     "name": "stdout",
     "output_type": "stream",
     "text": [
      " Exiting. Thank you for visiting!\n"
     ]
    }
   ],
   "source": [
    "import sqlite3\n",
    "\n",
    "# Connect to database\n",
    "conn = sqlite3.connect(\"billing.db\")\n",
    "cursor = conn.cursor()\n",
    "\n",
    "#Creating a table\n",
    "cursor.execute('''\n",
    "CREATE TABLE IF NOT EXISTS products (\n",
    "    id INTEGER PRIMARY KEY AUTOINCREMENT,\n",
    "    name TEXT NOT NULL,\n",
    "    price REAL NOT NULL,\n",
    "    stock INTEGER NOT NULL\n",
    ")\n",
    "''')\n",
    "conn.commit()\n",
    "\n",
    "\n",
    "def add_product():\n",
    "    name = input(\"Enter product name: \")\n",
    "    price = float(input(\"Enter price: \"))\n",
    "    stock = int(input(\"Enter stock: \"))\n",
    "    cursor.execute(\"INSERT INTO products (name, price, stock) VALUES (?, ?, ?)\", (name, price, stock))\n",
    "    conn.commit()\n",
    "    print(\"Product added to cart!\\n\")\n",
    "\n",
    "def show_products():\n",
    "    cursor.execute(\"SELECT * FROM products\")\n",
    "    for row in cursor.fetchall():\n",
    "        print(f\"ID: {row[0]} | {row[1]} | {row[2]} | Stock: {row[3]}\")\n",
    "    print()\n",
    "\n",
    "def buy_product():\n",
    "    show_products()\n",
    "    pid = int(input(\"Enter product ID: \"))\n",
    "    qty = int(input(\"Enter quantity: \"))\n",
    "\n",
    "    cursor.execute(\"SELECT name, price, stock FROM products WHERE id=?\", (pid,))\n",
    "    row = cursor.fetchone()\n",
    "\n",
    "    if row:\n",
    "        name, price, stock = row\n",
    "        if stock >= qty:\n",
    "            total = price * qty\n",
    "            cursor.execute(\"UPDATE products SET stock = stock - ? WHERE id=?\", (qty, pid))\n",
    "            conn.commit()\n",
    "            print(qty, \"x\", name, \"=\",  round(total, 2))\n",
    "\n",
    "        else:\n",
    "            print(\" Not enough stock.\\n\")\n",
    "    else:\n",
    "        print(\"Product not found.\\n\")\n",
    "\n",
    "while True:\n",
    "    print(''' ~Bill Management System~\n",
    "1. Add Product\n",
    "2. Show Products\n",
    "3. Buy Product\n",
    "4. Exit\n",
    "''')\n",
    "    choice = input(\"Enter your choice (1–4): \")\n",
    "\n",
    "    if choice == '1':\n",
    "        add_product()\n",
    "    elif choice == '2':\n",
    "        show_products()\n",
    "    elif choice == '3':\n",
    "        buy_product()\n",
    "    elif choice == '4':\n",
    "        print(\" Exiting. Thank you for visiting!\")\n",
    "        break\n",
    "    else:\n",
    "        print(\" Invalid choice.\\n\")\n"
   ]
  },
  {
   "cell_type": "code",
   "execution_count": null,
   "id": "3a01fc0c-bef6-4b57-9631-ee9155e298a1",
   "metadata": {},
   "outputs": [],
   "source": []
  }
 ],
 "metadata": {
  "kernelspec": {
   "display_name": "Python [conda env:base] *",
   "language": "python",
   "name": "conda-base-py"
  },
  "language_info": {
   "codemirror_mode": {
    "name": "ipython",
    "version": 3
   },
   "file_extension": ".py",
   "mimetype": "text/x-python",
   "name": "python",
   "nbconvert_exporter": "python",
   "pygments_lexer": "ipython3",
   "version": "3.13.5"
  }
 },
 "nbformat": 4,
 "nbformat_minor": 5
}
